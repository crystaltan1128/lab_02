{
  "cells": [
    {
      "cell_type": "markdown",
      "metadata": {
        "id": "view-in-github",
        "colab_type": "text"
      },
      "source": [
        "<a href=\"https://colab.research.google.com/github/crystaltan1128/lab_02/blob/main/GeotaggedTweets.ipynb\" target=\"_parent\"><img src=\"https://colab.research.google.com/assets/colab-badge.svg\" alt=\"Open In Colab\"/></a>"
      ]
    },
    {
      "cell_type": "code",
      "execution_count": null,
      "metadata": {
        "id": "EtnaSlH-wplB"
      },
      "outputs": [],
      "source": [
        "# created on Dec 24, 2020\n",
        "# modified on April 12, 2022\n",
        "# @author:          Bo Zhao\n",
        "# @email:           zhaobo@uw.edu\n",
        "# @website:         https://hgis.uw.edu\n",
        "# @organization:    Department of Geography, University of Washington, Seattle\n",
        "# @description:     Search geo-tagged tweets within the U.S. This script is modified from https://github.com/shawn-terryah/Twitter_Geolocation"
      ]
    },
    {
      "cell_type": "code",
      "execution_count": null,
      "metadata": {
        "id": "f-bMdKMawxnQ",
        "outputId": "39994cfc-9e6f-483e-ef61-16ffd9dc3de8",
        "colab": {
          "base_uri": "https://localhost:8080/"
        }
      },
      "outputs": [
        {
          "output_type": "stream",
          "name": "stdout",
          "text": [
            "Drive already mounted at /gdrive; to attempt to forcibly remount, call drive.mount(\"/gdrive\", force_remount=True).\n"
          ]
        }
      ],
      "source": [
        "import tweepy, json, time\n",
        "import pandas as pd\n",
        "from google.colab import files\n",
        "# Create data on to Google Drive\n",
        "from google.colab import drive\n",
        "# Mount your Drive to the Colab VM.\n",
        "drive.mount('/gdrive')"
      ]
    },
    {
      "cell_type": "code",
      "execution_count": null,
      "metadata": {
        "id": "dEyPts-ZwplE"
      },
      "outputs": [],
      "source": [
        "class StreamListener(tweepy.StreamListener):\n",
        "    \"\"\"tweepy.StreamListener is a class provided by tweepy used to access\n",
        "    the Twitter Streaming API to collect tweets in real-time.\n",
        "    \"\"\"\n",
        "\n",
        "    def __init__(self, time_limit=60, file=\"\"):\n",
        "        \"\"\"class initialization\"\"\"\n",
        "        self.start_time = time.time()\n",
        "        self.limit = time_limit\n",
        "        self.result = []\n",
        "        self.f = file\n",
        "        super(StreamListener, self).__init__()\n",
        "\n",
        "    def on_data(self, data):\n",
        "        \"\"\"This is called when data are streamed in.\"\"\"\n",
        "        if (time.time() - self.start_time) < self.limit:\n",
        "            datajson = json.loads(data)\n",
        "            # print(datajson, \"\\n\")\n",
        "            if 'id' not in datajson.keys():\n",
        "                time.sleep(10)\n",
        "            else:\n",
        "                id = datajson['id']\n",
        "                username = datajson['user']['screen_name']\n",
        "                created_at = datajson['created_at']\n",
        "                text = datajson['text'].strip().replace(\"\\n\", \"\")\n",
        "\n",
        "                # process the geo-tags\n",
        "                if datajson['coordinates'] == None:\n",
        "                    try:\n",
        "                        bbox = datajson['place']['bounding_box']['coordinates'][0]\n",
        "                        lng = (bbox[0][0] + bbox[2][0]) / 2.0\n",
        "                        lat = (bbox[0][1] + bbox[1][1]) / 2.0\n",
        "                    except:\n",
        "                        lat = 0\n",
        "                        lng = 0\n",
        "                else:\n",
        "                    lng = datajson['coordinates']['coordinates'][0]\n",
        "                    lat = datajson['coordinates']['coordinates'][1]\n",
        "\n",
        "                if lat != 0:\n",
        "                    row = {\n",
        "                        'id': id,\n",
        "                        'username': username,\n",
        "                        'created_at': created_at,\n",
        "                        'lng': lng,\n",
        "                        'lat': lat,\n",
        "                        'text': text\n",
        "                    }\n",
        "                    print(row)\n",
        "                    self.result.append(row)\n",
        "                else:\n",
        "                    pass\n",
        "        else:\n",
        "            df = pd.DataFrame(self.result)\n",
        "            df.to_csv(self.f, index=False)\n",
        "            # download the csv to your local computer\n",
        "            files.download(self.f)\n",
        "            print(\"the csv has been downloaded to your local computer. The program has been completed successfully.\")\n",
        "            return False"
      ]
    },
    {
      "cell_type": "code",
      "execution_count": null,
      "metadata": {
        "id": "5Xzyo_OiwplG",
        "outputId": "67b5cfdb-0795-4017-bde5-4da1ffcfca55",
        "colab": {
          "base_uri": "https://localhost:8080/",
          "height": 1000
        }
      },
      "outputs": [
        {
          "output_type": "stream",
          "name": "stdout",
          "text": [
            "{'id': 1518426422003568641, 'username': 'matrix_model', 'created_at': 'Mon Apr 25 03:07:24 +0000 2022', 'lng': 6.1430255, 'lat': 46.204758, 'text': '#OnThisDay University of Helsinki, 2015-department of clinical pharmacology / yes I had pink hair https://t.co/0U0QMKDcUf'}\n",
            "{'id': 1518426456665247745, 'username': 'cndiablo222', 'created_at': 'Mon Apr 25 03:07:32 +0000 2022', 'lng': -1.014897, 'lat': 51.449484, 'text': 'God bless #Sunny #Chander #Isaak from #NHS they are my best friends now all I care about is recovering after… https://t.co/sXLLb9M5b1'}\n",
            "{'id': 1518426461610389504, 'username': 'timmsy_ks', 'created_at': 'Mon Apr 25 03:07:34 +0000 2022', 'lng': -2.096208, 'lat': 53.6011235, 'text': \"You can't post this without some crackhead chirping in that if you book four years in advance for the 0615 on a Sun… https://t.co/yequWId5Qo\"}\n",
            "{'id': 1518426500575510529, 'username': 'evgenidilov', 'created_at': 'Mon Apr 25 03:07:43 +0000 2022', 'lng': -4.2417514999999995, 'lat': 55.85830249999999, 'text': 'boys will be boys #FNTourGlasgow https://t.co/Q1bOCXtdoh'}\n",
            "{'id': 1518426524445077505, 'username': 'erickgcastle', 'created_at': 'Mon Apr 25 03:07:49 +0000 2022', 'lng': -4.2417514999999995, 'lat': 55.85830249999999, 'text': 'GOING HOME LFG I WANNA SEE MY CAT'}\n",
            "{'id': 1518426528769531904, 'username': 'SeanKea97761422', 'created_at': 'Mon Apr 25 03:07:50 +0000 2022', 'lng': -2.2472365, 'lat': 53.0181555, 'text': '@warrior19RN Gawjuss 👍😍😍'}\n",
            "{'id': 1518426541633507328, 'username': 'TheSamNorris', 'created_at': 'Mon Apr 25 03:07:53 +0000 2022', 'lng': -0.21089449999999998, 'lat': 51.6118845, 'text': '@JezzaD1972 @premrugby @owen_faz @Saracens @ExeterChiefs He’s the form 10 in the league but unfortunately rarely ge… https://t.co/DLGIQmloXr'}\n",
            "{'id': 1518426561812348929, 'username': 'sagapo69100', 'created_at': 'Mon Apr 25 03:07:57 +0000 2022', 'lng': 25.1293925, 'lat': 41.0703495, 'text': 'The House of Shadow-Ksanthi(iskece)/Greece https://t.co/LXUQts8TJf'}\n",
            "{'id': 1518426574990811136, 'username': 'HRHBMountbatten', 'created_at': 'Mon Apr 25 03:08:01 +0000 2022', 'lng': 5.974284, 'lat': 50.778126, 'text': '3-5 ultime day i shift not more for nobody more ...'}\n",
            "{'id': 1518426583240953857, 'username': 'sajidgul1', 'created_at': 'Mon Apr 25 03:08:03 +0000 2022', 'lng': -0.102162, 'lat': 51.5879015, 'text': '@ImranRiazKhan Well done poraa baand hy lol  #امپورٹڈ_حکومت_نامنظور'}\n",
            "{'id': 1518426604602634243, 'username': 'obanj1', 'created_at': 'Mon Apr 25 03:08:08 +0000 2022', 'lng': -0.017990000000000003, 'lat': 51.454107, 'text': '@TheRealCEOAmber Split the 800 odds into halves and I won. It was 15 games so I did 8 games in one part and 7 games… https://t.co/XOEsY9SX3z'}\n",
            "{'id': 1518426625628676098, 'username': 'hardsell', 'created_at': 'Mon Apr 25 03:08:13 +0000 2022', 'lng': 2.1412275000000003, 'lat': 41.392657, 'text': 'Cant be too unhappy with thatWordle 310 4/6⬛⬛\\U0001f7e8⬛\\U0001f7e8\\U0001f7e8\\U0001f7e8⬛\\U0001f7e9⬛\\U0001f7e9⬛⬛\\U0001f7e9\\U0001f7e8\\U0001f7e9\\U0001f7e9\\U0001f7e9\\U0001f7e9\\U0001f7e9'}\n",
            "{'id': 1518426666871271425, 'username': 'evgenidilov', 'created_at': 'Mon Apr 25 03:08:23 +0000 2022', 'lng': -4.2417514999999995, 'lat': 55.85830249999999, 'text': 'boys will be boys #FNTourGlasgow https://t.co/BPXUiFriUh'}\n",
            "{'id': 1518426701151318018, 'username': 'Arabwel', 'created_at': 'Mon Apr 25 03:08:31 +0000 2022', 'lng': -6.2476215, 'lat': 53.354902499999994, 'text': '@rinkside For a good reason!'}\n",
            "{'id': 1518426705261740032, 'username': 'wooliferkins', 'created_at': 'Mon Apr 25 03:08:32 +0000 2022', 'lng': -1.4250895, 'lat': 51.5888575, 'text': 'Wordle 310 3/6⬜\\U0001f7e8⬜\\U0001f7e9\\U0001f7e8\\U0001f7e9\\U0001f7e9⬜\\U0001f7e9⬜\\U0001f7e9\\U0001f7e9\\U0001f7e9\\U0001f7e9\\U0001f7e9'}\n",
            "{'id': 1518426713247690752, 'username': 'KarenHewitt11', 'created_at': 'Mon Apr 25 03:08:34 +0000 2022', 'lng': -4.200441, 'lat': 57.739454, 'text': '@Leeanne009 @Killingeveandme @TacosAreTxsty @KillingEve @BBCAMERICA I just wanted answers about Carolyn and recieve… https://t.co/NIa6lWGOqB'}\n",
            "{'id': 1518426717639135234, 'username': 'naty_furacao', 'created_at': 'Mon Apr 25 03:08:35 +0000 2022', 'lng': -8.621914, 'lat': 41.162142, 'text': '@pic_poster Thanks'}\n",
            "{'id': 1518426782176788482, 'username': '27Macalane', 'created_at': 'Mon Apr 25 03:08:50 +0000 2022', 'lng': 16.379845500000002, 'lat': 48.22012, 'text': '@Imaginary_Ones Is this a fake? https://t.co/EJLuK3Pekv'}\n",
            "{'id': 1518426799826513921, 'username': 'SLThomas99', 'created_at': 'Mon Apr 25 03:08:54 +0000 2022', 'lng': -1.4496120000000001, 'lat': 53.3831645, 'text': '@GingeJordanAFC @LondonCabbie78 A great work ethic in what ever role will get you a long way and can be used as ste… https://t.co/lzrYlo4OUX'}\n",
            "{'id': 1518426799952310282, 'username': 'sajidgul1', 'created_at': 'Mon Apr 25 03:08:54 +0000 2022', 'lng': -0.102162, 'lat': 51.5879015, 'text': '@NaeemBukhariPTI Brilliant 🤣🤣🤣🤣🤣 #امپورٹڈ_حکومت_نامنظور'}\n",
            "{'id': 1518426818935676930, 'username': 'SarahAshtonLV', 'created_at': 'Mon Apr 25 03:08:59 +0000 2022', 'lng': 31.181446, 'lat': 48.382929000000004, 'text': 'Good morning from Ukraine ☀️61 days of war teaches us we must be united. Anyone supporting #Ukraine should not… https://t.co/OehhRVthe7'}\n",
            "{'id': 1518426826279952384, 'username': 'Arrivaissues', 'created_at': 'Mon Apr 25 03:09:01 +0000 2022', 'lng': -0.2631405, 'lat': 51.5651955, 'text': 'Wow! And I thought you were talking about anti-septicism for a moment!😉there’s enough platform that shit!🙄'}\n",
            "{'id': 1518426886560530432, 'username': 'TungsTweets', 'created_at': 'Mon Apr 25 03:09:15 +0000 2022', 'lng': -0.33394250000000003, 'lat': 53.765817, 'text': '@Doing_my_best1 @JomboyMedia Joe West easy'}\n",
            "{'id': 1518426913244688384, 'username': 'ROGERSAYER6', 'created_at': 'Mon Apr 25 03:09:21 +0000 2022', 'lng': -2.915427, 'lat': 53.4198785, 'text': \"Ideologies have mixed with very strong pride engrained over a centuries.I don't wish this to carry on the behavio… https://t.co/WGEvvZhaWP\"}\n",
            "{'id': 1518426922031763456, 'username': 'Kennet67', 'created_at': 'Mon Apr 25 03:09:23 +0000 2022', 'lng': 16.334512, 'lat': 61.318428999999995, 'text': 'In Memoriam PAUL BALOFF!(April 25, 1960 - February 2, 2002)Gone but not forgotten! https://t.co/7jD4CfifZG'}\n",
            "{'id': 1518427004470759425, 'username': 'HRHBMountbatten', 'created_at': 'Mon Apr 25 03:09:43 +0000 2022', 'lng': 5.974284, 'lat': 50.778126, 'text': 'I wait enough i demand it and i got it not @AntoniaVeldpaus when that is true that i you’re Daughter are than answe… https://t.co/EQVwF2sTBL'}\n",
            "{'id': 1518427013928861696, 'username': 'kauser_shahzad5', 'created_at': 'Mon Apr 25 03:09:45 +0000 2022', 'lng': -4.3258415, 'lat': 55.775116499999996, 'text': 'The word genocide was not said in the Ukrainian war untill JO Biden used it then by media this is a white peoples w… https://t.co/uvBuw1pDRr'}\n",
            "{'id': 1518427034078400513, 'username': 'Carhibout', 'created_at': 'Mon Apr 25 03:09:50 +0000 2022', 'lng': 3.0715885, 'lat': 50.628974, 'text': 'GLUTOOOOOOOOOOOOO'}\n",
            "{'id': 1518427046606938112, 'username': 'dare_richard', 'created_at': 'Mon Apr 25 03:09:53 +0000 2022', 'lng': 0.026298999999999996, 'lat': 51.39432, 'text': '@bennewmark Yes, I love it!'}\n",
            "{'id': 1518427078231744513, 'username': 'billybirry', 'created_at': 'Mon Apr 25 03:10:01 +0000 2022', 'lng': 12.934894, 'lat': 55.5798575, 'text': \"@KiwiEV I don't know if my brain is wired the wrong way, but I read that as penisavond. Classic Freud.\"}\n",
            "{'id': 1518427087002025986, 'username': 'sotonships', 'created_at': 'Mon Apr 25 03:10:03 +0000 2022', 'lng': -1.44127, 'lat': 50.9043, 'text': 'The Container Ship NYK Meteor has just set sail for Le Havre  (Track: https://t.co/UKgUnw5a4B) #NYKMeteor'}\n",
            "{'id': 1518427112742727681, 'username': 'gord1brad', 'created_at': 'Mon Apr 25 03:10:09 +0000 2022', 'lng': -1.3853659999999999, 'lat': 54.8992425, 'text': '@valuestoimpact @OldBobCyprus @AngelaRayner @MoS_Politics THAT is class !'}\n",
            "{'id': 1518427146020134917, 'username': 'Arrivaissues', 'created_at': 'Mon Apr 25 03:10:17 +0000 2022', 'lng': -0.2631405, 'lat': 51.5651955, 'text': 'I’ll lay wager blindfolded! And not even a specialist in any shit!'}\n",
            "{'id': 1518427165460680706, 'username': 'BMS_CREW', 'created_at': 'Mon Apr 25 03:10:21 +0000 2022', 'lng': 2.347003, 'lat': 48.8588335, 'text': 'GLUTOOOO 🇫🇷🇫🇷🇫🇷'}\n",
            "{'id': 1518427173027291138, 'username': 'IAmTJMO', 'created_at': 'Mon Apr 25 03:10:23 +0000 2022', 'lng': 9.976318500000001, 'lat': 53.2806265, 'text': 'The truth is, everyone is going to hurt you. You just got to find the ones worth suffering for.'}\n",
            "{'id': 1518427178475663360, 'username': 'suzan_yumerova', 'created_at': 'Mon Apr 25 03:10:25 +0000 2022', 'lng': 13.401251, 'lat': 52.518391, 'text': '\"The future of man doesn\\'t depend on what he takes, but on what he gives.\" Beinsa Douno @ Berlin, Germany https://t.co/WyIw1DFuFg'}\n",
            "{'id': 1518427244632453120, 'username': 'spike_abbott', 'created_at': 'Mon Apr 25 03:10:40 +0000 2022', 'lng': -0.0350195, 'lat': 51.5148305, 'text': 'It’s the longest night in the oldest #Guardroom and another 3 and a half hours to go. #Watchman https://t.co/hL4Ac6I71Q'}\n",
            "{'id': 1518427249451622400, 'username': 'MinervaBulong', 'created_at': 'Mon Apr 25 03:10:41 +0000 2022', 'lng': 4.3063955, 'lat': 52.076868000000005, 'text': 'If i have to understand, does that mean, the Political Economic Interest of a Powerful Nation towards a lesser powe… https://t.co/yL7iUJgMl0'}\n",
            "{'id': 1518427286785212418, 'username': 'GraemeLeggat', 'created_at': 'Mon Apr 25 03:10:50 +0000 2022', 'lng': -3.335246, 'lat': 56.573859, 'text': 'Working on Fundamentals with a Golfing newbie at @BlairgowrieGC Wee Course Warm Up Range #Golf #Perthshire… https://t.co/uu8YVz9OCH'}\n",
            "{'id': 1518427289515614209, 'username': 'J4Ncp', 'created_at': 'Mon Apr 25 03:10:51 +0000 2022', 'lng': 7.0670895, 'lat': 51.5562115, 'text': 'WHAT A FINAL WTFLETSGOOOO GLUTOOOO 🎉🎉🎉'}\n",
            "{'id': 1518427293391147009, 'username': 'gayheel_', 'created_at': 'Mon Apr 25 03:10:52 +0000 2022', 'lng': 18.69084, 'lat': 54.360945, 'text': 'sounds kinda toxic tho'}\n",
            "{'id': 1518427337859162115, 'username': 'GaryChatterton5', 'created_at': 'Mon Apr 25 03:11:03 +0000 2022', 'lng': -1.0702945, 'lat': 53.7824765, 'text': 'Gary Smith, Scania R580 V8 (M3GST) On The A1M Northbound 20/4/22 https://t.co/4qYvOOng0F'}\n",
            "{'id': 1518427343181783041, 'username': '_BB_RADIO_MUSIC', 'created_at': 'Mon Apr 25 03:11:04 +0000 2022', 'lng': 13.1199934, 'lat': 52.381905, 'text': '#nowplaying #TheBlackEyedPeas ~ The Black Eyed Peas | Where Is The Love? ||| #bbradio #rockt'}\n",
            "{'id': 1518427343991287808, 'username': 'Highfieldoval', 'created_at': 'Mon Apr 25 03:11:04 +0000 2022', 'lng': -0.3922755, 'lat': 51.6680785, 'text': '@SeanTweet @Vijay31552558 @F1 Maybe F1 should get some integrity and not employ an incompetent whimp as race direct… https://t.co/QPbY0ph3qZ'}\n",
            "{'id': 1518427345291563008, 'username': 'ireneusz18', 'created_at': 'Mon Apr 25 03:11:04 +0000 2022', 'lng': -1.4707785, 'lat': 52.915530000000004, 'text': 'A great day for the world .. a great day for politics 👍👍👍Macron wins French presidential election, exit polls pre… https://t.co/PEJaY8gyby'}\n",
            "{'id': 1518427360621703170, 'username': 'Arrivaissues', 'created_at': 'Mon Apr 25 03:11:08 +0000 2022', 'lng': -0.2631405, 'lat': 51.5651955, 'text': 'Ghouls of propaganda!'}\n",
            "{'id': 1518427361485676545, 'username': 'sari_kansala', 'created_at': 'Mon Apr 25 03:11:08 +0000 2022', 'lng': 23.37427, 'lat': 61.449980499999995, 'text': 'He is just a gigolo.https://t.co/qsAho4q6A1'}\n",
            "{'id': 1518427375670865920, 'username': 'sajidgul1', 'created_at': 'Mon Apr 25 03:11:12 +0000 2022', 'lng': -0.102162, 'lat': 51.5879015, 'text': '@MaizaHameedMNA Why don’t you ask ur IMPORTED/RELEASED ON BAIL pm to arrest him  #امپورٹڈ_حکومت_نامنظور'}\n",
            "{'id': 1518427383686209540, 'username': 'AdamGatali1', 'created_at': 'Mon Apr 25 03:11:13 +0000 2022', 'lng': -0.09291050000000001, 'lat': 51.5144805, 'text': '@nampeera_ Wooo sweet babe no man can skip looking at this wonderful beauty.'}\n",
            "{'id': 1518427384994750467, 'username': 'P0ssiblyliv', 'created_at': 'Mon Apr 25 03:11:14 +0000 2022', 'lng': -1.2074825, 'lat': 53.9318445, 'text': '@chrispaget1 This is even better than the original I love it 😂'}\n",
            "{'id': 1518427449301913600, 'username': 'ROGERSAYER6', 'created_at': 'Mon Apr 25 03:11:29 +0000 2022', 'lng': -2.915427, 'lat': 53.4198785, 'text': 'Years of watching the Internet the behaviours of prior leaders history intertwined ect.Really need to get the rea… https://t.co/hUvFoHjk06'}\n",
            "{'id': 1518427459166904320, 'username': 'DonnachadhMc', 'created_at': 'Mon Apr 25 03:11:31 +0000 2022', 'lng': -0.0706035, 'lat': 51.464686, 'text': 'Labour in Waltham Forest have bern great pioneers 4 LTNs &amp; cyclelanes. Some other Lab councils now following their… https://t.co/DFwgRHuXWm'}\n",
            "{'id': 1518427490238271488, 'username': 'CRDG_Deek', 'created_at': 'Mon Apr 25 03:11:39 +0000 2022', 'lng': -1.139325, 'lat': 52.952753, 'text': 'I am selling 2 standing tickets for  Architects on the 3rd of May in Nottingham. Standing is completely sold out. I… https://t.co/jZriyExGyj'}\n",
            "{'id': 1518427523234861056, 'username': 'Mustxkim', 'created_at': 'Mon Apr 25 03:11:47 +0000 2022', 'lng': -0.2631405, 'lat': 51.5651955, 'text': 'Not a foul?'}\n",
            "{'id': 1518427544030257152, 'username': 'andanotherdave', 'created_at': 'Mon Apr 25 03:11:52 +0000 2022', 'lng': -1.4707785, 'lat': 52.915530000000004, 'text': '@QuarkExpedition @iaato_org Presumably changes happen naturally. With little humans can do about it. Tho there must… https://t.co/k1zvIHIzJG'}\n",
            "{'id': 1518427586183020545, 'username': 'evgenidilov', 'created_at': 'Mon Apr 25 03:12:02 +0000 2022', 'lng': -4.2417514999999995, 'lat': 55.85830249999999, 'text': \"don't start now #FNTourGlasgow https://t.co/Cfgu944Ld1\"}\n",
            "{'id': 1518427610073735169, 'username': 'Aliceinalbania', 'created_at': 'Mon Apr 25 03:12:07 +0000 2022', 'lng': 20.160294, 'lat': 41.1547585, 'text': \"@AM39_Exocet @bledibitri @jnicaj29 The project isn't happening anymore.\"}\n",
            "{'id': 1518427617917124608, 'username': 'Mikaelbuchs', 'created_at': 'Mon Apr 25 03:12:09 +0000 2022', 'lng': 6.92645, 'lat': 46.698542, 'text': '@RaptOriginZ Allez go go go for Sold Out !!!'}\n",
            "{'id': 1518427633608015879, 'username': 'MyDodgyLeftEye', 'created_at': 'Mon Apr 25 03:12:13 +0000 2022', 'lng': -2.7164625, 'lat': 53.32798, 'text': 'Now that would work… https://t.co/mmwjAknzE3'}\n",
            "{'id': 1518427635830996993, 'username': 'beyzoliiii', 'created_at': 'Mon Apr 25 03:12:14 +0000 2022', 'lng': 28.8292025, 'lat': 40.1839485, 'text': '@purplemborghini Doctor????'}\n",
            "{'id': 1518427653459836928, 'username': 'TomHartley_7', 'created_at': 'Mon Apr 25 03:12:18 +0000 2022', 'lng': 2.519186, 'lat': 49.8625445, 'text': 'Dawn Service at Villers-Bretonneux starts shortly. The first major service here since 2019. Hundreds here - from lo… https://t.co/gDD5q7oEv7'}\n",
            "{'id': 1518427666172555264, 'username': 'Arabwel', 'created_at': 'Mon Apr 25 03:12:21 +0000 2022', 'lng': -6.2476215, 'lat': 53.354902499999994, 'text': '@SanJoseSharks *raises hand('}\n",
            "{'id': 1518427668533989380, 'username': 'syedrafi007', 'created_at': 'Mon Apr 25 03:12:21 +0000 2022', 'lng': -1.63766, 'lat': 50.967573, 'text': '@elonmusk Great job 👏'}\n",
            "{'id': 1518427674548617217, 'username': 'HaseebJarralRa1', 'created_at': 'Mon Apr 25 03:12:23 +0000 2022', 'lng': -3.4468685, 'lat': 55.012153, 'text': '@fammir59 Lol why?'}\n",
            "{'id': 1518427680370274304, 'username': 'h0seojjk', 'created_at': 'Mon Apr 25 03:12:24 +0000 2022', 'lng': 2.5026635, 'lat': 48.6771825, 'text': 'Pureeee so many beau gosse here'}\n",
            "{'id': 1518427706047799297, 'username': 'sajidgul1', 'created_at': 'Mon Apr 25 03:12:30 +0000 2022', 'lng': -0.102162, 'lat': 51.5879015, 'text': '@AajKamranKhan Amen  #امپورٹڈ_حکومت_نامنظور'}\n",
            "{'id': 1518427737081458689, 'username': 'chda7777', 'created_at': 'Mon Apr 25 03:12:38 +0000 2022', 'lng': 12.5526325, 'lat': 55.6727755, 'text': 'This is awesome 🦘🏆 🗼🏆 🗽🏆 #GrandslamChampion #AusOpen #Champion2014 #FrenchOpen #Champion2015 #USOpen… https://t.co/z5pf4NNoQd'}\n",
            "{'id': 1518427740025856002, 'username': 'Omicron_21', 'created_at': 'Mon Apr 25 03:12:38 +0000 2022', 'lng': -3.7035074999999997, 'lat': 40.4777945, 'text': 'The truth in a pic'}\n",
            "{'id': 1518427741737078785, 'username': 'JQuittentonSJA', 'created_at': 'Mon Apr 25 03:12:39 +0000 2022', 'lng': -2.274177, 'lat': 53.363403, 'text': 'Next stop……Italy 🇮🇹 https://t.co/F5lxvGBqrJ'}\n",
            "{'id': 1518427776432455685, 'username': 'robyoung20', 'created_at': 'Mon Apr 25 03:12:47 +0000 2022', 'lng': 0.7365904999999999, 'lat': 52.0385845, 'text': 'Lord Rothermere another long term tax avoiding non dom, currently still enjoying the benefits of the EU, living muc… https://t.co/ombwWMGDeD'}\n",
            "{'id': 1518427785206841349, 'username': 'JoelPostbad', 'created_at': 'Mon Apr 25 03:12:49 +0000 2022', 'lng': 2.347003, 'lat': 48.8588335, 'text': 'WILLIAM PARDON 😭😭 https://t.co/Yselscv60e'}\n",
            "{'id': 1518427789673836549, 'username': 'HRHBMountbatten', 'created_at': 'Mon Apr 25 03:12:50 +0000 2022', 'lng': 5.974284, 'lat': 50.778126, 'text': 'That insecure thing have to stopped now i can judge them for not to see him and how they going around with me like… https://t.co/Or8l0wJxmJ'}\n",
            "{'id': 1518427805683535873, 'username': 'quinapaciencia', 'created_at': 'Mon Apr 25 03:12:54 +0000 2022', 'lng': 0.553042, 'lat': 41.624822, 'text': '@BSBonner @sigmargabriel @Bundeskanzler Mister Strategist. Victory of whom over whom and for what? the victory of E… https://t.co/pkplzKzBqS'}\n",
            "{'id': 1518427841238609920, 'username': 'SeanKea97761422', 'created_at': 'Mon Apr 25 03:13:03 +0000 2022', 'lng': -2.2472365, 'lat': 53.0181555, 'text': '@RebelCherrie Sweet dreams to you xxx'}\n",
            "{'id': 1518427841096040448, 'username': 'HultinKatarina', 'created_at': 'Mon Apr 25 03:13:02 +0000 2022', 'lng': 17.885089999999998, 'lat': 62.6602695, 'text': 'Godmorning frends in The WORLD have a Nice Day Namaste 🙏 🌍 to you soul of light White Rose https://t.co/P1D3yYB6Se'}\n",
            "{'id': 1518427845571268610, 'username': 'evgenidilov', 'created_at': 'Mon Apr 25 03:13:04 +0000 2022', 'lng': -4.2417514999999995, 'lat': 55.85830249999999, 'text': 'thank you dua #FNTourGlasgow https://t.co/wmbpoxlQlp'}\n",
            "{'id': 1518427850239586304, 'username': 'Arrivaissues', 'created_at': 'Mon Apr 25 03:13:05 +0000 2022', 'lng': -0.2631405, 'lat': 51.5651955, 'text': '@potus ? The man who shakes hands with ghouls? His scripts are written by Hollywood script writers!'}\n",
            "{'id': 1518427865653600256, 'username': 'm_t_h_MWarrior', 'created_at': 'Mon Apr 25 03:13:08 +0000 2022', 'lng': 18.1415495, 'lat': 40.193844, 'text': '⚠️PREVENTED FROM #SLEEPING ALSO DUE TO #SECRETSERVICES-RUN #ASSAULTS @ MY #UROGENITAL SYSTEM (INDUCED #PAIN➕… https://t.co/Ils44i7OwO'}\n",
            "{'id': 1518427949619458053, 'username': 'CharlSwoffer', 'created_at': 'Mon Apr 25 03:13:28 +0000 2022', 'lng': -4.14293, 'lat': 50.402215, 'text': '@CassaGoSoccer Being a martyr doesn’t take away from the fact that by definition what he did is still suicide'}\n",
            "{'id': 1518427951553032193, 'username': 'SarahAshtonLV', 'created_at': 'Mon Apr 25 03:13:29 +0000 2022', 'lng': 31.181446, 'lat': 48.382929000000004, 'text': '@Ryan_v404 @walter_report @Mriya_Aid Indeed...'}\n",
            "{'id': 1518427953624928257, 'username': 'erininitaly', 'created_at': 'Mon Apr 25 03:13:29 +0000 2022', 'lng': 9.9225015, 'lat': 44.0744665, 'text': '@dmoney6288 @Fake_Farrah Yes!!! I hate that song so much!'}\n",
            "{'id': 1518427974936240130, 'username': 'bsbsophiesweden', 'created_at': 'Mon Apr 25 03:13:34 +0000 2022', 'lng': 6.8143080000000005, 'lat': 51.238447, 'text': '@SeitzNatascha @nickcarter @kimm_moekotte @memories_craft @silletravn86 @catsway @Annelie1985 Right back at ya girl! 😘'}\n",
            "{'id': 1518427975301185536, 'username': 'SheharyarAfzal3', 'created_at': 'Mon Apr 25 03:13:34 +0000 2022', 'lng': 2.3862445, 'lat': 48.658344, 'text': '@00pti1 @HamidMirPAK Right dear'}\n",
            "{'id': 1518428055399763970, 'username': 'thejaydoubleyou', 'created_at': 'Mon Apr 25 03:13:54 +0000 2022', 'lng': -3.5456950000000003, 'lat': 50.447559, 'text': 'Heardle 80s #2🔊\\U0001f7e9⬜️⬜️⬜️⬜️⬜️https://t.co/rca4Vt0HYz#Heardle #Heardle80s #80sHeardle #80sMusic #1980s'}\n",
            "{'id': 1518428065134743553, 'username': 'richardcoops', 'created_at': 'Mon Apr 25 03:13:56 +0000 2022', 'lng': -2.1270405, 'lat': 57.160556, 'text': '@dave_et_al Absolutely not.'}\n",
            "{'id': 1518428078829195264, 'username': 'umlishsandhu', 'created_at': 'Mon Apr 25 03:13:59 +0000 2022', 'lng': -1.8906405, 'lat': 52.4939665, 'text': 'Hypocracy At its Peat#PalestineUnderAttack'}\n",
            "{'id': 1518428091529453568, 'username': 'yaa_is_flying', 'created_at': 'Mon Apr 25 03:14:02 +0000 2022', 'lng': -3.148917, 'lat': 52.641829, 'text': 'G-WENU spotted at 04:13. Speed: 87.1 knots at 1105ft on heading: 266.7deg. Location: https://t.co/zgeFx89Db1 Photo:… https://t.co/GgmK6oGkwm'}\n",
            "{'id': 1518428106436104194, 'username': 'Arrivaissues', 'created_at': 'Mon Apr 25 03:14:06 +0000 2022', 'lng': -0.2631405, 'lat': 51.5651955, 'text': 'Then boycott French goods?'}\n",
            "{'id': 1518428166938931200, 'username': 'FamilySkeletal', 'created_at': 'Mon Apr 25 03:14:20 +0000 2022', 'lng': -1.8309834999999999, 'lat': 53.854062, 'text': '\"Sakura\" (Japanese for Cherry Blossom)The 2005 album from Skeletal Family.Sleeve cover artwork by Mel Butler.… https://t.co/KqKM0ohQeo'}\n",
            "{'id': 1518428302729437184, 'username': 'WendellFR', 'created_at': 'Mon Apr 25 03:14:53 +0000 2022', 'lng': 12.48589825, 'lat': 41.89389751, 'text': 'Just posted a photo @ Fori Imperiali https://t.co/qvXzuLWJFT'}\n",
            "{'id': 1518428322975432711, 'username': 'IamHaralHasnat', 'created_at': 'Mon Apr 25 03:14:57 +0000 2022', 'lng': -0.352529, 'lat': 39.4224845, 'text': 'I forgive those who murder and steal because they did it out of necessity, but a traitor never. - Emiliano Zapata#MarchAgainstImportedGovt'}\n",
            "{'id': 1518428340352434177, 'username': 'TorreRellotge', 'created_at': 'Mon Apr 25 03:15:02 +0000 2022', 'lng': 1.893817, 'lat': 41.545639, 'text': 'ding!!!!!'}\n",
            "{'id': 1518428366340304896, 'username': 'BLblacksmith', 'created_at': 'Mon Apr 25 03:15:08 +0000 2022', 'lng': 20.388116, 'lat': 44.836092, 'text': 'If you’re not staking your $ASTR with @AstarDegens then you’re NGMI 🌟🦍Why? 🔻Awesome thread by @dr_preposterous… https://t.co/TekICF2zEJ'}\n",
            "{'id': 1518428400632872961, 'username': 'jaythesailor', 'created_at': 'Mon Apr 25 03:15:16 +0000 2022', 'lng': -0.1909515, 'lat': 51.9023015, 'text': 'Wordle 310 4/6\\U0001f7e8⬛\\U0001f7e8\\U0001f7e8⬛⬛\\U0001f7e8\\U0001f7e8\\U0001f7e8⬛⬛\\U0001f7e8\\U0001f7e8\\U0001f7e9⬛\\U0001f7e9\\U0001f7e9\\U0001f7e9\\U0001f7e9\\U0001f7e9'}\n",
            "{'id': 1518428423676477443, 'username': 'Ffyncwraig', 'created_at': 'Mon Apr 25 03:15:21 +0000 2022', 'lng': -3.1312335, 'lat': 53.244556, 'text': 'Just woke up caching myself by the sound of a cat running back and to along the top of my pillows and stop to scrat… https://t.co/6xB6JOnivA'}\n",
            "{'id': 1518428428822880256, 'username': 'jaritsihvonen', 'created_at': 'Mon Apr 25 03:15:23 +0000 2022', 'lng': 27.673748, 'lat': 62.997833, 'text': '\"The national character, galvanized during the Soviet invasions, is reflected in the Finnish word\\xa0“sisu,” meaning d… https://t.co/a3a7Rog0fM'}\n",
            "{'id': 1518428435944816641, 'username': 'HRHBMountbatten', 'created_at': 'Mon Apr 25 03:15:24 +0000 2022', 'lng': 5.974284, 'lat': 50.778126, 'text': '🧨explode 3-5 till than have you the change to let it see patience have i enough let see let me see my documents ...'}\n",
            "{'id': 1518428460804419585, 'username': 'SheharyarAfzal3', 'created_at': 'Mon Apr 25 03:15:30 +0000 2022', 'lng': 2.3862445, 'lat': 48.658344, 'text': '@JustinTrudeau Happy birthday 🎂 God bless you all 🥰'}\n",
            "{'id': 1518428466873524225, 'username': 'Taffys5', 'created_at': 'Mon Apr 25 03:15:32 +0000 2022', 'lng': -0.35069249999999996, 'lat': 51.461742, 'text': '@Best_Milf2Date Just add cream'}\n",
            "{'id': 1518428469402771456, 'username': 'CharlSwoffer', 'created_at': 'Mon Apr 25 03:15:32 +0000 2022', 'lng': -4.14293, 'lat': 50.402215, 'text': '@AlWirtes Probably because school shootings in America don’t shock anyone anymore'}\n",
            "{'id': 1518428491204775937, 'username': 'Highfieldoval', 'created_at': 'Mon Apr 25 03:15:37 +0000 2022', 'lng': -0.3922755, 'lat': 51.6680785, 'text': \"@ZakeTer @bk181_ @F1 No he's not he's the manipulated champion.The product of a corrupt sport.A race director tha… https://t.co/hCVLowqsyS\"}\n",
            "{'id': 1518428497496219648, 'username': 'hardsell', 'created_at': 'Mon Apr 25 03:15:39 +0000 2022', 'lng': 2.1412275000000003, 'lat': 41.392657, 'text': 'Most interesting one yet, really diversified mix#Tradle #50 5/6\\U0001f7e9\\U0001f7e9\\U0001f7e8⬜⬜\\U0001f7e9\\U0001f7e9\\U0001f7e9\\U0001f7e9\\U0001f7e8\\U0001f7e9\\U0001f7e9\\U0001f7e9\\U0001f7e9\\U0001f7e8\\U0001f7e9\\U0001f7e9\\U0001f7e9\\U0001f7e9\\U0001f7e8\\U0001f7e9\\U0001f7e9\\U0001f7e9\\U0001f7e9\\U0001f7e9https://t.co/2Lz7AnJrhT'}\n",
            "{'id': 1518428580019064833, 'username': 'aaslam', 'created_at': 'Mon Apr 25 03:15:59 +0000 2022', 'lng': -1.56549, 'lat': 53.801956000000004, 'text': '#Ramadan Day 24 - back to work and my first in person working day whilst fasting since 2019 🤯. Will be a long old d… https://t.co/pvN8HuVqTL'}\n",
            "{'id': 1518428598515941376, 'username': 'Frankly_Blam', 'created_at': 'Mon Apr 25 03:16:03 +0000 2022', 'lng': -2.366933, 'lat': 51.3796495, 'text': 'In bewaring pitty and the nature of cold manner, belief shouldn’t seem to understate nor underestimate fate. Affirm… https://t.co/S2Wui149Qy'}\n",
            "{'id': 1518428618946486274, 'username': 'kinkybottomuk', 'created_at': 'Mon Apr 25 03:16:08 +0000 2022', 'lng': -0.08816099999999999, 'lat': 51.489262999999994, 'text': 'This is a very nice and sexy new picture that I have taken the time to create along with the additional pictures th… https://t.co/fKKOUF7pt5'}\n",
            "{'id': 1518428628563988482, 'username': 'BLblacksmith', 'created_at': 'Mon Apr 25 03:16:10 +0000 2022', 'lng': 20.388116, 'lat': 44.836092, 'text': '@Polkadot_Alerts @dr_preposterous @AstarDegens @LuigiL1985 @mad4ox_tw @chao_sama @SkyLabsCorp @ohayokeithy… https://t.co/WyPYzOmtRl'}\n",
            "{'id': 1518428639590858752, 'username': '_BB_RADIO_MUSIC', 'created_at': 'Mon Apr 25 03:16:13 +0000 2022', 'lng': 13.1199934, 'lat': 52.381905, 'text': \"#nowplaying #TateMcRae ~ Tate McRae | She's All I Wanna Be ||| #bbradio #rockt #brandenburg\"}\n",
            "{'id': 1518428654262493184, 'username': 'LairdThieme', 'created_at': 'Mon Apr 25 03:16:16 +0000 2022', 'lng': 13.567969, 'lat': 52.685574, 'text': '@HannaLiubakova @sigmargabriel @OlafScholz I hope you happy you cowards'}\n",
            "{'id': 1518428664844726272, 'username': 'NealJohnRussel3', 'created_at': 'Mon Apr 25 03:16:19 +0000 2022', 'lng': -1.7733919999999999, 'lat': 50.845375000000004, 'text': 'Give Eternal Prayer For Christ Jesus. Creation Meek Shall Inherit Our Earth, Revival. Downtrodden, Physical, Spirit… https://t.co/Vl23kmDcn9'}\n",
            "{'id': 1518428665717178369, 'username': 'StuartMac', 'created_at': 'Mon Apr 25 03:16:19 +0000 2022', 'lng': -3.2030085, 'lat': 55.9431955, 'text': '@ScotGovFM @thekiltwalk @whocaresscot @NicolaSturgeon @scotgov From the #SNP 😂😂The party that likes to say “We Pro… https://t.co/E2499sl1wx'}\n",
            "{'id': 1518428676605493248, 'username': 'dsn_status', 'created_at': 'Mon Apr 25 03:16:22 +0000 2022', 'lng': -4.249167, 'lat': 40.429167, 'text': 'DSS 56 carrier lock on Mars OdysseyFrequency: 8.4066GHzSignal strength: -143dBmIDLE OFF 1 MCD3'}\n",
            "{'id': 1518428691847602181, 'username': 'CathiaSoerensen', 'created_at': 'Mon Apr 25 03:16:25 +0000 2022', 'lng': 11.163304, 'lat': 55.689018000000004, 'text': 'Good morning \\U0001f90d'}\n",
            "{'id': 1518428711619551234, 'username': 'FaisalNisar0802', 'created_at': 'Mon Apr 25 03:16:30 +0000 2022', 'lng': -2.1168695, 'lat': 53.542865500000005, 'text': 'Real Hero and Hero is Imran khan https://t.co/fRK61imglI'}\n",
            "{'id': 1518428713163100160, 'username': 'hardsell', 'created_at': 'Mon Apr 25 03:16:30 +0000 2022', 'lng': 2.1412275000000003, 'lat': 41.392657, 'text': 'Everyone should get that in round 1#Heardle #59🔊\\U0001f7e9⬜️⬜️⬜️⬜️⬜️https://t.co/G1H9YOYeHJ'}\n",
            "{'id': 1518428738115055616, 'username': 'christerstenlu2', 'created_at': 'Mon Apr 25 03:16:36 +0000 2022', 'lng': 15.86832, 'lat': 57.678169, 'text': \"@MsErikka63 I won't complain but just send me two, or more please 🙏\"}\n",
            "{'id': 1518428748655255560, 'username': 'SeanKea97761422', 'created_at': 'Mon Apr 25 03:16:39 +0000 2022', 'lng': -2.2472365, 'lat': 53.0181555, 'text': '@PunkDemigoddess Think it was a snuff film , me dad would give me a note for the video manager lol x'}\n",
            "{'id': 1518428756993626114, 'username': 'BigFuzzyYak', 'created_at': 'Mon Apr 25 03:16:41 +0000 2022', 'lng': -0.18919, 'lat': 51.5037865, 'text': \"@Jinjar247 Omg! So sorry that's happened. I am glad to hear she is feeling better.\"}\n",
            "{'id': 1518428779840000000, 'username': 'gurucox', 'created_at': 'Mon Apr 25 03:16:46 +0000 2022', 'lng': -1.356315, 'lat': 53.0184905, 'text': 'Seen every  hour in from 01.30 🤦🤦🤦 given up,drove to work,time to climb in back of car to see if I can catch an hour or so #gypsylol'}\n",
            "{'id': 1518428804569518082, 'username': 'BaldBillyBob1', 'created_at': 'Mon Apr 25 03:16:52 +0000 2022', 'lng': -4.259, 'lat': 55.858, 'text': '#Glasgow #Scotland @ Glasgow, United Kingdom https://t.co/wN73iluj6h'}\n",
            "{'id': 1518428833799626752, 'username': 'kent_darron', 'created_at': 'Mon Apr 25 03:16:59 +0000 2022', 'lng': -0.029634, 'lat': 52.971982, 'text': '@ruck658 Thought I was watching utd then'}\n",
            "{'id': 1518428835749974021, 'username': 'BruningsM', 'created_at': 'Mon Apr 25 03:17:00 +0000 2022', 'lng': 10.169119, 'lat': 56.1630435, 'text': 'So sorry for your loss 🙏🙏🙏'}\n",
            "{'id': 1518428889172914181, 'username': 'steelydandy', 'created_at': 'Mon Apr 25 03:17:12 +0000 2022', 'lng': -1.7856895, 'lat': 51.5730085, 'text': \"@ellen_guenther @Acyn trump gibberish...and he's their frontrunner???\"}\n"
          ]
        },
        {
          "output_type": "display_data",
          "data": {
            "text/plain": [
              "<IPython.core.display.Javascript object>"
            ],
            "application/javascript": [
              "\n",
              "    async function download(id, filename, size) {\n",
              "      if (!google.colab.kernel.accessAllowed) {\n",
              "        return;\n",
              "      }\n",
              "      const div = document.createElement('div');\n",
              "      const label = document.createElement('label');\n",
              "      label.textContent = `Downloading \"${filename}\": `;\n",
              "      div.appendChild(label);\n",
              "      const progress = document.createElement('progress');\n",
              "      progress.max = size;\n",
              "      div.appendChild(progress);\n",
              "      document.body.appendChild(div);\n",
              "\n",
              "      const buffers = [];\n",
              "      let downloaded = 0;\n",
              "\n",
              "      const channel = await google.colab.kernel.comms.open(id);\n",
              "      // Send a message to notify the kernel that we're ready.\n",
              "      channel.send({})\n",
              "\n",
              "      for await (const message of channel.messages) {\n",
              "        // Send a message to notify the kernel that we're ready.\n",
              "        channel.send({})\n",
              "        if (message.buffers) {\n",
              "          for (const buffer of message.buffers) {\n",
              "            buffers.push(buffer);\n",
              "            downloaded += buffer.byteLength;\n",
              "            progress.value = downloaded;\n",
              "          }\n",
              "        }\n",
              "      }\n",
              "      const blob = new Blob(buffers, {type: 'application/binary'});\n",
              "      const a = document.createElement('a');\n",
              "      a.href = window.URL.createObjectURL(blob);\n",
              "      a.download = filename;\n",
              "      div.appendChild(a);\n",
              "      a.click();\n",
              "      div.remove();\n",
              "    }\n",
              "  "
            ]
          },
          "metadata": {}
        },
        {
          "output_type": "display_data",
          "data": {
            "text/plain": [
              "<IPython.core.display.Javascript object>"
            ],
            "application/javascript": [
              "download(\"download_37528178-e827-445a-a08f-2a67323d7e3d\", \"geotweets-2.csv\", 21721)"
            ]
          },
          "metadata": {}
        },
        {
          "output_type": "stream",
          "name": "stdout",
          "text": [
            "the csv has been downloaded to your local computer. The program has been completed successfully.\n"
          ]
        }
      ],
      "source": [
        "if __name__ == \"__main__\":\n",
        "    # These are provided to you through the Twitter API after you create a account\n",
        "    # register a Twitter App to get the keys and access tokens.\n",
        "    output_file = '/gdrive/My Drive/geotweets-2.csv'\n",
        "\n",
        "    # Apply for your own Twitter API keys at https://developer.twitter.com/en/apply-for-access\n",
        "    consumer_key = \"my_consumer_key_removed\"\n",
        "    consumer_secret = \"my_consumer_secret_removed\"\n",
        "    access_token = \"my_access_token_removed\"\n",
        "    access_token_secret = \"my_access_token_secret_removed\"\n",
        "\n",
        "    myauth = tweepy.OAuthHandler(consumer_key, consumer_secret)\n",
        "    myauth.set_access_token(access_token, access_token_secret)\n",
        "\n",
        "    # LOCATIONS are the longitude, latitude coordinate corners for a box that restricts the\n",
        "    # geographic area from which you will stream tweets. The first two define the southwest\n",
        "    # corner of the box and the second two define the northeast corner of the box.\n",
        "    LOCATIONS = [-29.23029213413247, 36.680521567440124, 31.150561500656654, 70.61762237231761]  # Europe (this is the second run of the code)\n",
        "\n",
        "    stream_listener = StreamListener(time_limit=600, file=output_file)\n",
        "    stream = tweepy.Stream(auth=myauth, listener=stream_listener)\n",
        "    stream.filter(locations=LOCATIONS, languages=['en'], encoding=\"utf-8\")"
      ]
    }
  ],
  "metadata": {
    "colab": {
      "collapsed_sections": [],
      "name": "GeotaggedTweets.ipynb",
      "provenance": [],
      "include_colab_link": true
    },
    "kernelspec": {
      "display_name": "Python 3",
      "language": "python",
      "name": "python3"
    },
    "language_info": {
      "codemirror_mode": {
        "name": "ipython",
        "version": 3
      },
      "file_extension": ".py",
      "mimetype": "text/x-python",
      "name": "python",
      "nbconvert_exporter": "python",
      "pygments_lexer": "ipython3",
      "version": "3.7.4"
    }
  },
  "nbformat": 4,
  "nbformat_minor": 0
}